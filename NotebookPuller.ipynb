{
 "cells": [
  {
   "cell_type": "code",
   "execution_count": null,
   "metadata": {},
   "outputs": [],
   "source": [
    "import sys\n",
    "sys.path.insert(0, '/srv/')\n",
    "from tutorial_files import get_manifest\n",
    "manifest = get_manifest()"
   ]
  },
  {
   "cell_type": "code",
   "execution_count": null,
   "metadata": {},
   "outputs": [],
   "source": [
    "from os.path import basename\n",
    "repos = [r['name'] for r in manifest.get('github')]\n",
    "files = [basename(f) for f in manifest.get('http')]\n",
    "print('Repos: {} \\nFiles: {}'.format(\n",
    "    ','.join(repos), \n",
    "    ','.join(files)\n",
    "))\n"
   ]
  },
  {
   "cell_type": "code",
   "execution_count": null,
   "metadata": {},
   "outputs": [],
   "source": [
    "# WARNING! Don't proceed if you have any unsaved data you want to keep!\n",
    "# Everything listed above will be deleted!\n",
    "import shutil\n",
    "from os.path import exists\n",
    "from os import remove\n",
    "\n",
    "for r in repos:\n",
    "    if exists(r):\n",
    "        print('Removing: ', r)\n",
    "        shutil.rmtree(r)\n",
    "for f in files:\n",
    "    if exists(f):\n",
    "        print('Removing: ', f)\n",
    "        remove(f)\n",
    "\n",
    "\n"
   ]
  },
  {
   "cell_type": "code",
   "execution_count": null,
   "metadata": {},
   "outputs": [],
   "source": [
    "# Pull a fresh copy of everything\n",
    "from tutorial_files import pull_resources\n",
    "pull_resources(manifest)"
   ]
  }
 ],
 "metadata": {
  "kernelspec": {
   "display_name": "Python 3",
   "language": "python",
   "name": "python3"
  },
  "language_info": {
   "codemirror_mode": {
    "name": "ipython",
    "version": 3
   },
   "file_extension": ".py",
   "mimetype": "text/x-python",
   "name": "python",
   "nbconvert_exporter": "python",
   "pygments_lexer": "ipython3",
   "version": "3.6.3"
  }
 },
 "nbformat": 4,
 "nbformat_minor": 2
}
